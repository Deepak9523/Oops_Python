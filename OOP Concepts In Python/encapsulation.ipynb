{
 "cells": [
  {
   "attachments": {},
   "cell_type": "markdown",
   "metadata": {},
   "source": [
    "# What is Encapsulation\n",
    "python provides acess to all the variable and method globally\n",
    "\n",
    "by using encapsulation we can restrict the variable and method acees globally by making it private or protected\n",
    "\n",
    "Note:-Single underscore(protected)\n",
    "\n",
    "     Double underscore(private)"
   ]
  },
  {
   "cell_type": "code",
   "execution_count": 6,
   "metadata": {},
   "outputs": [
    {
     "name": "stdout",
     "output_type": "stream",
     "text": [
      "a= 10\n",
      "b= 10\n",
      "out side of class 10\n"
     ]
    }
   ],
   "source": [
    "class A:\n",
    "    _a=10 # protected\n",
    "    __b=10 # private\n",
    "    def show(self):\n",
    "        print(\"a=\",self._a)\n",
    "        print(\"b=\",self.__b)\n",
    "\n",
    "obj=A()\n",
    "obj.show()\n",
    "print(\"out side of class\",A._a)\n",
    "#print(\"out side of class\",obj.__b)"
   ]
  },
  {
   "cell_type": "code",
   "execution_count": null,
   "metadata": {},
   "outputs": [],
   "source": []
  }
 ],
 "metadata": {
  "kernelspec": {
   "display_name": "Python 3",
   "language": "python",
   "name": "python3"
  },
  "language_info": {
   "codemirror_mode": {
    "name": "ipython",
    "version": 3
   },
   "file_extension": ".py",
   "mimetype": "text/x-python",
   "name": "python",
   "nbconvert_exporter": "python",
   "pygments_lexer": "ipython3",
   "version": "3.11.1"
  },
  "orig_nbformat": 4
 },
 "nbformat": 4,
 "nbformat_minor": 2
}
