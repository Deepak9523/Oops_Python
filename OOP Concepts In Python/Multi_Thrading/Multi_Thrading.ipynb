{
 "cells": [
  {
   "attachments": {},
   "cell_type": "markdown",
   "metadata": {},
   "source": [
    "# What is Thread:-\n",
    "thread is a Pre-defined class which is available in threading module\n",
    "\n",
    "thread is a basic unit of CPU and it is well known for independent execution\n",
    "\n",
    "Theread class method:-\n",
    "1. run()\n",
    "\n",
    "2. start()\n",
    "\n",
    "3. join()\n",
    "\n",
    "4. isAlive()\n",
    "\n",
    "5. Setname()\n",
    "\n",
    "6. getname()"
   ]
  },
  {
   "attachments": {},
   "cell_type": "markdown",
   "metadata": {},
   "source": [
    "# What is Multi_Thrading\n",
    "Multithrading is a thchnique which allows a CPU to Execute Multi Thrads of one process at the Same time\n",
    "\n",
    "# Why Multithrading:-\n",
    "The purpose of multithrading is to run multiple tasks and functions at the same time"
   ]
  },
  {
   "cell_type": "code",
   "execution_count": 3,
   "metadata": {},
   "outputs": [
    {
     "name": "stdout",
     "output_type": "stream",
     "text": [
      "Deepak\n",
      "Deepak\n",
      "Deepak\n",
      "Deepak\n",
      "Deepak\n",
      "Rajput\n",
      "Rajput\n",
      "Rajput\n",
      "Rajput\n",
      "Rajput\n"
     ]
    }
   ],
   "source": [
    "class A: # main thread\n",
    "    def run(self):\n",
    "        for i in range(5):\n",
    "            print(\"Deepak\")\n",
    "\n",
    "class B:\n",
    "    def run(self):\n",
    "        for i in range(5):\n",
    "            print(\"Rajput\")\n",
    "\n",
    "t1=A()\n",
    "t2=B()\n",
    "t1.run()\n",
    "t2.run()"
   ]
  },
  {
   "cell_type": "code",
   "execution_count": 4,
   "metadata": {},
   "outputs": [
    {
     "name": "stdout",
     "output_type": "stream",
     "text": [
      "Deepak\n",
      "Deepak\n",
      "Deepak\n",
      "Deepak\n",
      "Deepak\n",
      "Rajput\n",
      "Rajput\n",
      "Rajput\n",
      "Rajput\n",
      "Rajput\n"
     ]
    }
   ],
   "source": [
    "from time import sleep\n",
    "class A:                   # main thread\n",
    "    def run(self):\n",
    "        for i in range(5):\n",
    "            print(\"Deepak\")\n",
    "            sleep(1)\n",
    "\n",
    "class B:\n",
    "    def run(self):\n",
    "        for i in range(5):\n",
    "            print(\"Rajput\")\n",
    "            sleep(1)\n",
    "\n",
    "t1=A()\n",
    "t2=B()\n",
    "t1.run()\n",
    "t2.run()"
   ]
  },
  {
   "cell_type": "code",
   "execution_count": 5,
   "metadata": {},
   "outputs": [
    {
     "name": "stdout",
     "output_type": "stream",
     "text": [
      "Deepak\n",
      "Deepak\n",
      "Deepak\n",
      "Deepak\n",
      "Deepak\n",
      "Rajput\n",
      "Rajput\n",
      "Rajput\n",
      "Rajput\n",
      "Rajput\n"
     ]
    }
   ],
   "source": [
    "from time import sleep\n",
    "from threading import Thread\n",
    "class A(Thread):                \n",
    "    def run(self):\n",
    "        for i in range(5):\n",
    "            print(\"Deepak\")\n",
    "            sleep(1)\n",
    "\n",
    "class B(Thread):\n",
    "    def run(self):\n",
    "        for i in range(5):\n",
    "            print(\"Rajput\")\n",
    "            sleep(1)\n",
    "\n",
    "t1=A()\n",
    "t2=B()\n",
    "t1.run()\n",
    "t2.run()"
   ]
  },
  {
   "cell_type": "code",
   "execution_count": 7,
   "metadata": {},
   "outputs": [
    {
     "name": "stdout",
     "output_type": "stream",
     "text": [
      "Deepak\n",
      "Rajput\n"
     ]
    },
    {
     "name": "stdout",
     "output_type": "stream",
     "text": [
      "Deepak\n",
      "Rajput\n",
      "Deepak\n",
      "Rajput\n",
      "Deepak\n",
      "Rajput\n",
      "Deepak\n",
      "Rajput\n"
     ]
    }
   ],
   "source": [
    "from time import sleep      # multithreading\n",
    "from threading import Thread\n",
    "class A(Thread):                \n",
    "    def run(self):\n",
    "        for i in range(5):\n",
    "            print(\"Deepak\")\n",
    "            sleep(1)\n",
    "\n",
    "class B(Thread):\n",
    "    def run(self):\n",
    "        for i in range(5):\n",
    "            print(\"Rajput\")\n",
    "            sleep(1)\n",
    "\n",
    "t1=A()\n",
    "t2=B()\n",
    "t1.start()\n",
    "t2.start()"
   ]
  },
  {
   "cell_type": "code",
   "execution_count": 9,
   "metadata": {},
   "outputs": [
    {
     "name": "stdout",
     "output_type": "stream",
     "text": [
      "DeepakRajput\n",
      "\n",
      "Deepak\n",
      "Rajput\n",
      "Rajput\n",
      "Deepak\n",
      "Rajput\n",
      "Deepak\n",
      "RajputDeepak\n",
      "\n",
      "Ajit\n"
     ]
    }
   ],
   "source": [
    "from time import sleep      # multithreading\n",
    "from threading import Thread\n",
    "class A(Thread):                \n",
    "    def run(self):\n",
    "        for i in range(5):\n",
    "            print(\"Deepak\")\n",
    "            sleep(1)\n",
    "\n",
    "class B(Thread):\n",
    "    def run(self):\n",
    "        for i in range(5):\n",
    "            print(\"Rajput\")\n",
    "            sleep(1)\n",
    "\n",
    "t1=A()\n",
    "t2=B()\n",
    "t1.start()\n",
    "t2.start()\n",
    "\n",
    "t1.join()\n",
    "t2.join()\n",
    "print(\"Ajit\")"
   ]
  },
  {
   "cell_type": "code",
   "execution_count": null,
   "metadata": {},
   "outputs": [],
   "source": []
  }
 ],
 "metadata": {
  "kernelspec": {
   "display_name": "Python 3",
   "language": "python",
   "name": "python3"
  },
  "language_info": {
   "codemirror_mode": {
    "name": "ipython",
    "version": 3
   },
   "file_extension": ".py",
   "mimetype": "text/x-python",
   "name": "python",
   "nbconvert_exporter": "python",
   "pygments_lexer": "ipython3",
   "version": "3.11.1"
  },
  "orig_nbformat": 4
 },
 "nbformat": 4,
 "nbformat_minor": 2
}
