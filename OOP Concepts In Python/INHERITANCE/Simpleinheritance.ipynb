{
 "cells": [
  {
   "attachments": {},
   "cell_type": "markdown",
   "metadata": {},
   "source": [
    "# What is Simple Inheritance\n",
    "simple inheritance is nothing but which contain only one parent calls and one child class\n",
    "\n",
    "syntax:- class parent:\n",
    "\n",
    "         properties\n",
    "\n",
    "         class child(parent):\n",
    "         \n",
    "         properties"
   ]
  },
  {
   "cell_type": "code",
   "execution_count": 3,
   "metadata": {},
   "outputs": [
    {
     "name": "stdout",
     "output_type": "stream",
     "text": [
      "Addition: 13\n",
      "Substraction: 3\n",
      "Multiply: 40\n",
      "Division: 1.6\n",
      "Remender: 3\n"
     ]
    }
   ],
   "source": [
    "class Parent:\n",
    "    num1=int(input(\"Enter First Number\"))\n",
    "    num2=int(input(\"Enter Second Number\"))\n",
    "    def add(self):\n",
    "        print(\"Addition:\",self.num1+self.num2)\n",
    "    def sub(self):\n",
    "        print(\"Substraction:\",self.num1-self.num2)\n",
    "\n",
    "class Child(Parent):\n",
    "    def multi(self):\n",
    "        print(\"Multiply:\",self.num1*self.num2)\n",
    "    def Div(self):\n",
    "        print(\"Division:\",self.num1/self.num2)\n",
    "    def Rem(self):\n",
    "        print(\"Remender:\",self.num1%self.num2)\n",
    "\n",
    "C=Child()\n",
    "C.add()\n",
    "C.sub()\n",
    "C.multi()\n",
    "C.Div()\n",
    "C.Rem()"
   ]
  },
  {
   "cell_type": "code",
   "execution_count": null,
   "metadata": {},
   "outputs": [],
   "source": []
  }
 ],
 "metadata": {
  "kernelspec": {
   "display_name": "Python 3",
   "language": "python",
   "name": "python3"
  },
  "language_info": {
   "codemirror_mode": {
    "name": "ipython",
    "version": 3
   },
   "file_extension": ".py",
   "mimetype": "text/x-python",
   "name": "python",
   "nbconvert_exporter": "python",
   "pygments_lexer": "ipython3",
   "version": "3.11.1"
  },
  "orig_nbformat": 4
 },
 "nbformat": 4,
 "nbformat_minor": 2
}
