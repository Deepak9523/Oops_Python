{
 "cells": [
  {
   "attachments": {},
   "cell_type": "markdown",
   "metadata": {},
   "source": [
    "# What is Inheritance:-\n",
    "When We Define a class that inherits all the properties of other class called inheritance\n",
    "\n",
    "Syntax:-class father:\n",
    "\n",
    "        Properties\n",
    "\n",
    "      class son(father):\n",
    "\n",
    "      Properties"
   ]
  },
  {
   "cell_type": "code",
   "execution_count": 2,
   "metadata": {},
   "outputs": [
    {
     "name": "stdout",
     "output_type": "stream",
     "text": [
      "Having a 50Ekar Lands\n",
      "Having 10 Lakhs Money\n"
     ]
    }
   ],
   "source": [
    "class father:\n",
    "    def land(self):\n",
    "        print(\"Having a 50Ekar Lands\")\n",
    "\n",
    "class son(father):\n",
    "    def money(self):\n",
    "        print(\"Having 10 Lakhs Money\")\n",
    "\n",
    "S=son()\n",
    "S.land()\n",
    "S.money()"
   ]
  },
  {
   "attachments": {},
   "cell_type": "markdown",
   "metadata": {},
   "source": [
    "# Types of inheritance\n",
    "1. Single Inheritance\n",
    "\n",
    "2. Multiple Inheritance\n",
    "\n",
    "3. Multi Level inheritance\n",
    "\n",
    "4. Heierarchical Inheritance\n",
    "\n",
    "5. Hybrid Inheritance\n",
    "\n",
    "in common in with all inheritance another properties in Acess but Different diferent Way"
   ]
  },
  {
   "attachments": {},
   "cell_type": "markdown",
   "metadata": {},
   "source": []
  },
  {
   "cell_type": "code",
   "execution_count": null,
   "metadata": {},
   "outputs": [],
   "source": []
  }
 ],
 "metadata": {
  "kernelspec": {
   "display_name": "Python 3",
   "language": "python",
   "name": "python3"
  },
  "language_info": {
   "codemirror_mode": {
    "name": "ipython",
    "version": 3
   },
   "file_extension": ".py",
   "mimetype": "text/x-python",
   "name": "python",
   "nbconvert_exporter": "python",
   "pygments_lexer": "ipython3",
   "version": "3.11.1"
  },
  "orig_nbformat": 4
 },
 "nbformat": 4,
 "nbformat_minor": 2
}
