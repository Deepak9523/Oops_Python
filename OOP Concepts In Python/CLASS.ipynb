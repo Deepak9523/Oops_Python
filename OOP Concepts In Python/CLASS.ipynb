{
 "cells": [
  {
   "attachments": {},
   "cell_type": "markdown",
   "metadata": {},
   "source": [
    "# Object Oriented Programming:- \n",
    "In Python object oriented programing (OOPs) is a Programming\n",
    " paradigm that uses \n",
    "Objects and Classes in Programming it Aim to implement\n",
    " Real- World Entities like\n",
    "Inheritance, Polymorphisom, Encapsulation etc in the Programming "
   ]
  },
  {
   "attachments": {},
   "cell_type": "markdown",
   "metadata": {},
   "source": [
    "# There are Six Types of OOPS CONCEPTS\n",
    "1.Class\n",
    "\n",
    "2.Object\n",
    "\n",
    "3.Inheritance\n",
    "\n",
    "4.Polymorphisom\n",
    "\n",
    "5.Abstraction\n",
    "\n",
    "6.Encapsulation\n"
   ]
  },
  {
   "attachments": {},
   "cell_type": "markdown",
   "metadata": {},
   "source": [
    "# Class:- \n",
    " A class is like a Blueprint Of Data Member \n",
    "and Functions class is a user defiened data \n",
    "type Which Holds its Own Data\n",
    "eg:-Car:-BluePrint\n",
    "\n",
    "class Syn:-\n",
    "class ckass_name:\n",
    "#variable\n",
    "#method\n"
   ]
  },
  {
   "attachments": {},
   "cell_type": "markdown",
   "metadata": {},
   "source": [
    "# Objects:-\n",
    "1.An objects is an Instance of a class it has its Own State, Behavior and identity\n",
    " \n",
    "2.As we Know class is a Logical entity while and object is a Physical and Rael entity that work on class data\n",
    "\n",
    "Eg:-[Car]:-[BMW],[Tesla],[TATA]"
   ]
  },
  {
   "cell_type": "code",
   "execution_count": 10,
   "metadata": {},
   "outputs": [
    {
     "name": "stdout",
     "output_type": "stream",
     "text": [
      "10\n",
      "10\n",
      "10\n"
     ]
    }
   ],
   "source": [
    "class A:\n",
    "    age=10\n",
    "    print(age)\n",
    "\n",
    "obj=A()\n",
    "print(obj.age)\n",
    "print(A.age)"
   ]
  },
  {
   "cell_type": "code",
   "execution_count": 7,
   "metadata": {},
   "outputs": [
    {
     "name": "stdout",
     "output_type": "stream",
     "text": [
      "10\n",
      "10\n"
     ]
    }
   ],
   "source": [
    "class A:\n",
    "    def __init__(self):\n",
    "         age=10\n",
    "         print(age)\n",
    "\n",
    "obj=A()\n",
    "obj2=A()"
   ]
  },
  {
   "cell_type": "code",
   "execution_count": 18,
   "metadata": {},
   "outputs": [
    {
     "name": "stdout",
     "output_type": "stream",
     "text": [
      "10\n",
      "Deepak Rajput-------\n",
      "Deepak Rajput-------\n"
     ]
    }
   ],
   "source": [
    "class A:\n",
    "    \"Deepak Rajput-------\"\n",
    "    age=10\n",
    "    print(age)\n",
    "\n",
    "obj=A()\n",
    "print(obj.__doc__)\n",
    "print(A.__doc__)\n"
   ]
  },
  {
   "cell_type": "code",
   "execution_count": 20,
   "metadata": {},
   "outputs": [
    {
     "name": "stdout",
     "output_type": "stream",
     "text": [
      "Rajput\n"
     ]
    }
   ],
   "source": [
    "class A:\n",
    "    \n",
    "    age=10\n",
    "    def fun(self):\n",
    "        name=\"Rajput\"\n",
    "        print(name)\n",
    "\n",
    "obj=A()\n",
    "obj.fun()\n"
   ]
  },
  {
   "cell_type": "code",
   "execution_count": 21,
   "metadata": {},
   "outputs": [
    {
     "name": "stdout",
     "output_type": "stream",
     "text": [
      "10   Rajput\n"
     ]
    }
   ],
   "source": [
    "class A:\n",
    "    \n",
    "    age=10\n",
    "    def fun(self,age,name):\n",
    "        print(age,\" \",name,)\n",
    "\n",
    "obj=A()\n",
    "obj.fun(10,\"Rajput\")\n"
   ]
  },
  {
   "cell_type": "code",
   "execution_count": 22,
   "metadata": {},
   "outputs": [
    {
     "name": "stdout",
     "output_type": "stream",
     "text": [
      "10   Rajput\n"
     ]
    }
   ],
   "source": [
    "class A:\n",
    "    \n",
    "    age=10\n",
    "    def __init__(self,age,name):\n",
    "        print(age,\" \",name,)\n",
    "\n",
    "obj=A(10,\"Rajput\")\n"
   ]
  },
  {
   "cell_type": "code",
   "execution_count": 23,
   "metadata": {},
   "outputs": [
    {
     "name": "stdout",
     "output_type": "stream",
     "text": [
      "10   Rajput\n",
      "20   Deepak\n"
     ]
    }
   ],
   "source": [
    "class A:\n",
    "    \n",
    "    age=10\n",
    "    def __init__(self,age,name):\n",
    "        print(age,\" \",name,)\n",
    "\n",
    "obj=A(10,\"Rajput\")\n",
    "obj2=A(20,\"Deepak\")"
   ]
  },
  {
   "cell_type": "code",
   "execution_count": null,
   "metadata": {},
   "outputs": [],
   "source": []
  }
 ],
 "metadata": {
  "kernelspec": {
   "display_name": "Python 3",
   "language": "python",
   "name": "python3"
  },
  "language_info": {
   "codemirror_mode": {
    "name": "ipython",
    "version": 3
   },
   "file_extension": ".py",
   "mimetype": "text/x-python",
   "name": "python",
   "nbconvert_exporter": "python",
   "pygments_lexer": "ipython3",
   "version": "3.11.1"
  },
  "orig_nbformat": 4
 },
 "nbformat": 4,
 "nbformat_minor": 2
}
