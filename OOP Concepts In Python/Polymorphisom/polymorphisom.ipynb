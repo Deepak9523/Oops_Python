{
 "cells": [
  {
   "attachments": {},
   "cell_type": "markdown",
   "metadata": {},
   "source": [
    "# What is Polymorphisom\n",
    "polymorphisom means ability to take various forms.(Same object having Different behaviar)."
   ]
  },
  {
   "cell_type": "code",
   "execution_count": 4,
   "metadata": {},
   "outputs": [
    {
     "name": "stdout",
     "output_type": "stream",
     "text": [
      "60\n",
      "55\n"
     ]
    }
   ],
   "source": [
    "print(5+55)\n",
    "print(\"5\"+\"5\")"
   ]
  },
  {
   "attachments": {},
   "cell_type": "markdown",
   "metadata": {},
   "source": [
    "# There are Two types of Polymorphisom in idea\n",
    "1. Overloading\n",
    "\n",
    "2. Overriding\n"
   ]
  },
  {
   "attachments": {},
   "cell_type": "markdown",
   "metadata": {},
   "source": [
    "# What is Overloading\n",
    "Whenever class contains more than one methods with Same name and Different Types Parameeters called Overloading"
   ]
  },
  {
   "cell_type": "code",
   "execution_count": 7,
   "metadata": {},
   "outputs": [
    {
     "name": "stdout",
     "output_type": "stream",
     "text": [
      "Welcome  \n",
      "Welcome Deepak \n",
      "Welcome Deepak Rajput\n"
     ]
    }
   ],
   "source": [
    "class A:\n",
    "    def show(self):\n",
    "        print(\"Welcome\")\n",
    "\n",
    "    def show(self,firstname=''):\n",
    "        print(\"Welcome\",firstname)\n",
    "\n",
    "    def show(self,firstname='',lastman=''):\n",
    "        print(\"Welcome\",firstname,lastman)\n",
    "\n",
    "obj=A()\n",
    "obj.show()\n",
    "obj.show('Deepak')\n",
    "obj.show(\"Deepak\",\"Rajput\")"
   ]
  },
  {
   "cell_type": "code",
   "execution_count": 8,
   "metadata": {},
   "outputs": [
    {
     "name": "stdout",
     "output_type": "stream",
     "text": [
      "Welcome  \n",
      "Welcome Deepak \n",
      "Welcome Deepak Rajput\n"
     ]
    }
   ],
   "source": [
    "class A:\n",
    "    def show(self,firstname='',lastman=''):\n",
    "        print(\"Welcome\",firstname,lastman)\n",
    "\n",
    "obj=A()\n",
    "obj.show()\n",
    "obj.show('Deepak')\n",
    "obj.show(\"Deepak\",\"Rajput\")"
   ]
  },
  {
   "attachments": {},
   "cell_type": "markdown",
   "metadata": {},
   "source": [
    "# What is Overriding\n",
    "Whenever We writing method name with Same Signature in Parent & Child Class called Method Overriding"
   ]
  },
  {
   "cell_type": "code",
   "execution_count": 12,
   "metadata": {},
   "outputs": [
    {
     "name": "stdout",
     "output_type": "stream",
     "text": [
      "This is Parent class method\n",
      "This is child class method\n"
     ]
    }
   ],
   "source": [
    "class A:  # parent class\n",
    "    def show(self):\n",
    "        print(\"This is Parent class method\")\n",
    "\n",
    "class B(A): # Child class\n",
    "    def show(self):\n",
    "        print(\"This is child class method\")\n",
    "\n",
    "obj=B()\n",
    "obj.show()"
   ]
  },
  {
   "cell_type": "code",
   "execution_count": 14,
   "metadata": {},
   "outputs": [
    {
     "name": "stdout",
     "output_type": "stream",
     "text": [
      "This is Parent class method\n",
      "This is child class method\n"
     ]
    }
   ],
   "source": [
    "class A:  # parent class\n",
    "    def show(self):\n",
    "        print(\"This is Parent class method\")\n",
    "\n",
    "class B(A): # Child class\n",
    "    def show(self):\n",
    "        super().show()   # super class use in parent class show \n",
    "        print(\"This is child class method\")\n",
    "\n",
    "obj=B()\n",
    "obj.show()"
   ]
  },
  {
   "cell_type": "code",
   "execution_count": null,
   "metadata": {},
   "outputs": [],
   "source": []
  }
 ],
 "metadata": {
  "kernelspec": {
   "display_name": "Python 3",
   "language": "python",
   "name": "python3"
  },
  "language_info": {
   "codemirror_mode": {
    "name": "ipython",
    "version": 3
   },
   "file_extension": ".py",
   "mimetype": "text/x-python",
   "name": "python",
   "nbconvert_exporter": "python",
   "pygments_lexer": "ipython3",
   "version": "3.11.1"
  },
  "orig_nbformat": 4
 },
 "nbformat": 4,
 "nbformat_minor": 2
}
