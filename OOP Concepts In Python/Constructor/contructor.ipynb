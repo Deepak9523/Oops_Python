{
 "cells": [
  {
   "attachments": {},
   "cell_type": "markdown",
   "metadata": {},
   "source": [
    "# What is Constructor\n",
    "constructor is a special function that gets automatically called when object of class created\n",
    "\n",
    "syn:-\n",
    " def __init__(self)\n",
    " \n",
    "  #code"
   ]
  },
  {
   "cell_type": "code",
   "execution_count": 1,
   "metadata": {},
   "outputs": [],
   "source": [
    "class A:\n",
    "    pass\n",
    "\n",
    "obj=A()"
   ]
  },
  {
   "cell_type": "code",
   "execution_count": 2,
   "metadata": {},
   "outputs": [],
   "source": [
    "class A:\n",
    "    def __init__(self):\n",
    "        pass\n",
    "\n",
    "obj=A()"
   ]
  },
  {
   "attachments": {},
   "cell_type": "markdown",
   "metadata": {},
   "source": [
    "# Types Of Constructor\n",
    "1.default constructor\n",
    "\n",
    "2.Parameterized constructor"
   ]
  },
  {
   "attachments": {},
   "cell_type": "markdown",
   "metadata": {},
   "source": [
    "# default Constructor:\n",
    "default consructor are also called empaty constructor because it  does not have any parameters\n",
    "\n",
    "Note:-if we do not define any contructor the compiler automatically calls the default constructor\n",
    "\n",
    "syntex:- class class_name:\n",
    "\n",
    "def __init__(self):\n",
    "\n",
    "#code"
   ]
  },
  {
   "cell_type": "code",
   "execution_count": 4,
   "metadata": {},
   "outputs": [
    {
     "name": "stdout",
     "output_type": "stream",
     "text": [
      "Deepak\n"
     ]
    }
   ],
   "source": [
    "class A:\n",
    "    name=\"Deepak\"\n",
    "    def __init__(self):\n",
    "        print(self.name)\n",
    "    \n",
    "obj=A()\n",
    "    "
   ]
  },
  {
   "cell_type": "code",
   "execution_count": 7,
   "metadata": {},
   "outputs": [
    {
     "name": "stdout",
     "output_type": "stream",
     "text": [
      "Deepak\n",
      "20\n"
     ]
    }
   ],
   "source": [
    "class A:\n",
    "    name=\"Deepak\"\n",
    "    age=20\n",
    "    def __init__(self):\n",
    "        print(self.name)\n",
    "    def show(self):\n",
    "        print(self.age)\n",
    "obj=A()\n",
    "obj.show()\n",
    "    "
   ]
  },
  {
   "attachments": {},
   "cell_type": "markdown",
   "metadata": {},
   "source": [
    "# Parameterized constructor:-\n",
    "parameterized constructor accept argument with self its is known as parametrerized constructor\n",
    "\n",
    "syntex:-class class_name:\n",
    "def __init__(def,name)\n",
    "\n",
    "#code"
   ]
  },
  {
   "cell_type": "code",
   "execution_count": 9,
   "metadata": {},
   "outputs": [
    {
     "name": "stdout",
     "output_type": "stream",
     "text": [
      "22   Deepak   Buxar  \n"
     ]
    }
   ],
   "source": [
    "class A:\n",
    "    def __init__(self,age,name,address):\n",
    "        print(age,\" \",name,\" \",address,\" \")\n",
    "obj=A(22,\"Deepak\",\"Buxar\")"
   ]
  },
  {
   "cell_type": "code",
   "execution_count": 11,
   "metadata": {},
   "outputs": [
    {
     "name": "stdout",
     "output_type": "stream",
     "text": [
      "22   Deepak   Bihar  \n"
     ]
    }
   ],
   "source": [
    "class A:\n",
    "    def __init__(self,age,name,address):\n",
    "        address=\"Bihar\"\n",
    "        print(age,\" \",name,\" \",address,\" \")\n",
    "obj=A(22,\"Deepak\",None)"
   ]
  },
  {
   "cell_type": "code",
   "execution_count": 14,
   "metadata": {},
   "outputs": [
    {
     "name": "stdout",
     "output_type": "stream",
     "text": [
      "22   Deepak   Bihar Vivek\n"
     ]
    }
   ],
   "source": [
    "class A:\n",
    "    name2=\"Vivek\"\n",
    "    def __init__(self,age,name,address):\n",
    "        address=\"Bihar\"\n",
    "        print(age,\" \",name,\" \",address,self.name2)\n",
    "obj=A(22,\"Deepak\",None)"
   ]
  },
  {
   "attachments": {},
   "cell_type": "markdown",
   "metadata": {},
   "source": [
    "# What is Acess Modifier\n",
    "acess modifier are used to set the limit of member acessibilty\n",
    "\n",
    " Name Acess modifier Same class Same package Devived class other class\n",
    "  Var    Public            yes      yes          yes            yes\n",
    "\n",
    "  _Var   Protected         yes      yes          yes            no\n",
    "\n",
    "  __Var  Private           yes      no           no             no"
   ]
  },
  {
   "cell_type": "code",
   "execution_count": 4,
   "metadata": {},
   "outputs": [
    {
     "name": "stdout",
     "output_type": "stream",
     "text": [
      "10   20   None\n",
      "Addition: 30\n",
      "10\n",
      "20\n"
     ]
    }
   ],
   "source": [
    "class A:\n",
    "    a=10  # public\n",
    "    _b=20  # protected\n",
    "    __c=None # private\n",
    "    print(a,\" \",_b,\" \",__c)\n",
    "    def add(self):\n",
    "        self.__c=self.a+self._b\n",
    "        print(\"Addition:\",self.__c)\n",
    "obj=A()\n",
    "obj.add()\n",
    "print(obj.a)\n",
    "print(obj._b)\n",
    "#print(obj.__c)\n"
   ]
  },
  {
   "cell_type": "code",
   "execution_count": 5,
   "metadata": {},
   "outputs": [
    {
     "name": "stdout",
     "output_type": "stream",
     "text": [
      "10   20   None\n",
      "10\n",
      "20\n"
     ]
    }
   ],
   "source": [
    "class A: # parent class\n",
    "    a=10  # public\n",
    "    _b=20  # protected\n",
    "    __c=None # private\n",
    "    print(a,\" \",_b,\" \",__c)\n",
    "    def add(self):\n",
    "        self.__c=self.a+self._b\n",
    "        print(\"Addition:\",self.__c)\n",
    "class B(A):# child class\n",
    "    def show(self):\n",
    "        print(self.a)\n",
    "        print(self._b)\n",
    "        #print(self.__c)\n",
    "obj=B()\n",
    "obj.show()\n",
    "\n",
    "\n"
   ]
  },
  {
   "cell_type": "code",
   "execution_count": 6,
   "metadata": {},
   "outputs": [
    {
     "name": "stdout",
     "output_type": "stream",
     "text": [
      "10   20   None\n",
      "10\n",
      "20\n"
     ]
    }
   ],
   "source": [
    "class A: # parent class\n",
    "    a=10  # public\n",
    "    _b=20  # protected\n",
    "    __c=None # private\n",
    "    print(a,\" \",_b,\" \",__c)\n",
    "    def add(self):\n",
    "        self.__c=self.a+self._b\n",
    "        print(\"Addition:\",self.__c)\n",
    "class B(A):# child class\n",
    "        pass\n",
    "obj=B()\n",
    "print(obj.a)\n",
    "print(obj._b)\n",
    "#print(obj.__c)\n",
    "\n",
    "\n"
   ]
  },
  {
   "cell_type": "code",
   "execution_count": 7,
   "metadata": {},
   "outputs": [
    {
     "name": "stdout",
     "output_type": "stream",
     "text": [
      "10   20   None\n",
      "10\n",
      "20\n"
     ]
    }
   ],
   "source": [
    "class A: # parent class\n",
    "    a=10  # public\n",
    "    _b=20  # protected\n",
    "    __c=None # private\n",
    "    print(a,\" \",_b,\" \",__c)\n",
    "    def add(self):\n",
    "        self.__c=self.a+self._b\n",
    "        print(\"Addition:\",self.__c)\n",
    "class B:# child class\n",
    "    def show(self):\n",
    "        print(A.a)\n",
    "        print(A._b)\n",
    "        #print(A.__c)\n",
    "\n",
    "obj=B()\n",
    "obj.show()\n",
    "\n",
    "\n",
    "\n"
   ]
  },
  {
   "cell_type": "code",
   "execution_count": null,
   "metadata": {},
   "outputs": [],
   "source": []
  }
 ],
 "metadata": {
  "kernelspec": {
   "display_name": "Python 3",
   "language": "python",
   "name": "python3"
  },
  "language_info": {
   "codemirror_mode": {
    "name": "ipython",
    "version": 3
   },
   "file_extension": ".py",
   "mimetype": "text/x-python",
   "name": "python",
   "nbconvert_exporter": "python",
   "pygments_lexer": "ipython3",
   "version": "3.11.1"
  },
  "orig_nbformat": 4
 },
 "nbformat": 4,
 "nbformat_minor": 2
}
