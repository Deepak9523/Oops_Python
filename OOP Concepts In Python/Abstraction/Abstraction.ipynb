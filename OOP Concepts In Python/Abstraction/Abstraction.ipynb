{
 "cells": [
  {
   "attachments": {},
   "cell_type": "markdown",
   "metadata": {},
   "source": [
    " # What is Abstraction\n",
    " Abstraction is a process of hidding the implementation details from the user only the highlighted set of service provide to the user \n"
   ]
  },
  {
   "attachments": {},
   "cell_type": "markdown",
   "metadata": {},
   "source": [
    "# there are Two Types Abtraction method\n",
    "1. Abstract class\n",
    "\n",
    "2. Interface"
   ]
  },
  {
   "attachments": {},
   "cell_type": "markdown",
   "metadata": {},
   "source": [
    "# Abstract class:\n",
    "Abstract Class is a class that contain one or more abstract method is called abstract class\n",
    "\n",
    "Note:\n",
    "1. An object of an abstract class cannot be created\n",
    "\n",
    "2. python provide abc module to work With abstraction\n",
    "\n",
    "3. We use Aabstractionmethod decorator to define Abstractmethod\n",
    "\n",
    "Syntax:-\n",
    "from Abc import ABC\n",
    "\n",
    "class demo (ABC):\n",
    "\n",
    "def fun (self):\n",
    "\n",
    "//body\n",
    "\n",
    "Aabstractionmethod\n",
    "\n",
    "def fun2 (self):"
   ]
  },
  {
   "cell_type": "code",
   "execution_count": 5,
   "metadata": {},
   "outputs": [
    {
     "name": "stdout",
     "output_type": "stream",
     "text": [
      "Every car has been 4 wheels\n",
      "speed is 100km\\h\n",
      "Every car has been 4 wheels\n",
      "speed is 70km\\h\n"
     ]
    }
   ],
   "source": [
    "from abc import ABC,abstractmethod\n",
    "class car(ABC):\n",
    "    def show(self):\n",
    "        print(\"Every car has been 4 wheels\")\n",
    "    @abstractmethod\n",
    "    def speed(self):\n",
    "        pass\n",
    "class maruti(car):\n",
    "    def speed(self):\n",
    "        print(\"speed is 100km\\h\")\n",
    "\n",
    "class suzuki(car):\n",
    "    def speed(self):\n",
    "        print(\"speed is 70km\\h\")\n",
    "\n",
    "obj=maruti()\n",
    "obj.show()\n",
    "obj.speed()\n",
    "\n",
    "obj2=suzuki()\n",
    "obj2.show()\n",
    "obj2.speed()\n"
   ]
  },
  {
   "attachments": {},
   "cell_type": "markdown",
   "metadata": {},
   "source": [
    "# what is Interface\n",
    "interface is nothing but abstract class which contains only abstract method but not any normal method \n",
    "\n",
    "syntax:-\n",
    "import abc\n",
    "\n",
    "class inheritan_class(ABC):\n",
    "\n",
    "@abstracmethod\n",
    "\n",
    "def fun(self):\n",
    "\n",
    "pass\n",
    "\n",
    "@abstracmethod\n",
    "\n",
    "def fun(self):\n",
    "\n",
    "pass\n",
    "\n"
   ]
  },
  {
   "attachments": {},
   "cell_type": "markdown",
   "metadata": {},
   "source": [
    "Note:\n",
    "1. we can not create object of interface\n",
    "\n",
    "2. we use interface when an action is common but implementation deifferent \n",
    "\n",
    "3. All child class class should be inherits abstract method"
   ]
  },
  {
   "cell_type": "code",
   "execution_count": 6,
   "metadata": {},
   "outputs": [
    {
     "name": "stdout",
     "output_type": "stream",
     "text": [
      "square has 4 sides....\n",
      "circle has circle shape ....\n"
     ]
    }
   ],
   "source": [
    "from abc import ABC,abstractmethod\n",
    "class shape(ABC):\n",
    "    @abstractmethod\n",
    "    def show(self):\n",
    "        pass\n",
    "class square(shape):\n",
    "    def show(self):\n",
    "        print(\"square has 4 sides....\")\n",
    "    \n",
    "class circle(shape):\n",
    "    def show(self):\n",
    "        print(\"circle has circle shape ....\")\n",
    "\n",
    "s=square()\n",
    "s.show()\n",
    "\n",
    "c=circle()\n",
    "c.show()\n",
    "    "
   ]
  },
  {
   "cell_type": "code",
   "execution_count": 9,
   "metadata": {},
   "outputs": [
    {
     "name": "stdout",
     "output_type": "stream",
     "text": [
      "square has 4 sides....\n",
      "circle has circle shape ....\n"
     ]
    }
   ],
   "source": [
    "from abc import ABC,abstractmethod\n",
    "class shape(ABC):\n",
    "    @abstractmethod\n",
    "    def show(self):\n",
    "        pass\n",
    "    def design(self):            # but abstraction class is not interface\n",
    "        print(\"Desining......\")\n",
    "\n",
    "class square(shape):\n",
    "    def show(self):\n",
    "        print(\"square has 4 sides....\")\n",
    "    \n",
    "class circle(shape):\n",
    "    def show(self):\n",
    "        print(\"circle has circle shape ....\")\n",
    "\n",
    "s=square()\n",
    "s.show()\n",
    "\n",
    "c=circle()\n",
    "c.show()\n",
    "    "
   ]
  },
  {
   "cell_type": "code",
   "execution_count": 10,
   "metadata": {},
   "outputs": [
    {
     "name": "stdout",
     "output_type": "stream",
     "text": [
      "circle has circle shape ....\n",
      "square has 4 sides....\n"
     ]
    }
   ],
   "source": [
    "from abc import ABC,abstractmethod\n",
    "class shape(ABC):\n",
    "    @abstractmethod\n",
    "    def show(self):\n",
    "        pass\n",
    "    @abstractmethod\n",
    "    def show(self):\n",
    "        pass\n",
    "class square(shape):\n",
    "    def disp(self):\n",
    "        pass\n",
    "    \n",
    "class circle(square):\n",
    "    def show(self):\n",
    "        print(\"circle has circle shape ....\")\n",
    "    def disp(self):\n",
    "        print(\"square has 4 sides....\")\n",
    "\n",
    "c=circle()\n",
    "c.show()\n",
    "c.disp()\n",
    "    "
   ]
  },
  {
   "cell_type": "code",
   "execution_count": null,
   "metadata": {},
   "outputs": [],
   "source": []
  }
 ],
 "metadata": {
  "kernelspec": {
   "display_name": "Python 3",
   "language": "python",
   "name": "python3"
  },
  "language_info": {
   "codemirror_mode": {
    "name": "ipython",
    "version": 3
   },
   "file_extension": ".py",
   "mimetype": "text/x-python",
   "name": "python",
   "nbconvert_exporter": "python",
   "pygments_lexer": "ipython3",
   "version": "3.11.1"
  },
  "orig_nbformat": 4
 },
 "nbformat": 4,
 "nbformat_minor": 2
}
